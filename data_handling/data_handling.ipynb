{
 "cells": [
  {
   "cell_type": "markdown",
   "metadata": {},
   "source": [
    "# OPP-115 Corpus (ACL 2016)\n",
    "The OPP-115 Corpus (Online Privacy Policies, set of 115) is a collection of website privacy policies (i.e., in natural language) with annotations that specify data practices in the text. Each privacy policy was read and annotated by three graduate students in law.\n",
    "\n",
    "The dataset is made available for research, teaching, and scholarship purposes only, with further parameters in the spirit of a Creative Commons Attribution-NonCommercial License. Contact Prof. Norman Sadeh with any questions.\n",
    "\n",
    "The dataset is made available for research, teaching, and scholarship purposes only, with further parameters in the spirit of a Creative Commons Attribution-NonCommercial License. Contact Prof. Norman Sadeh with any questions.\n",
    "\n",
    "If you use this dataset as part of a publication, you must cite the following paper:\n",
    "\n",
    "The creation and analysis of a website privacy policy corpus. Shomir Wilson, Florian Schaub, Aswarth Abhilash Dara, Frederick Liu, Sushain Cherivirala, Pedro Giovanni Leon, Mads Schaarup Andersen, Sebastian Zimmeck, Kanthashree Mysore Sathyendra, N. Cameron Russell, Thomas B. Norton, Eduard Hovy, Joel Reidenberg, and Norman Sadeh. In Proceedings of the 54th Annual Meeting of the Association for Computational Linguistics, Berlin, Germany, August 2016.\n",
    "\n",
    "**Structure and contents of OPP-115 https://www.usableprivacy.org/static/files/swilson_acl_2016.pdf**"
   ]
  },
  {
   "cell_type": "markdown",
   "metadata": {},
   "source": [
    "**Annotation Scheme**"
   ]
  },
  {
   "cell_type": "markdown",
   "metadata": {},
   "source": [
    "The following policy annotation scheme is made to capture the data practices specified by privacy policies. The final annotation scheme consists of ten practice categories:"
   ]
  },
  {
   "cell_type": "markdown",
   "metadata": {},
   "source": [
    "1. *First Party Collection/Use*: how and why a service provider collects user information\n",
    "2. *Third Party Sharing/Collection*: how user information may be shared with or collected by third parties\n",
    "3. *User Choice/Control*: choices and control options available to users.\n",
    "4. *User Access, Edit, & Deletion*: if and how users may access, edit, or delete their information.\n",
    "5. *Data Retention*: how long user information is stored.\n",
    "6. *Data Security*: how user information is protected.\n",
    "7. *Policy Change*: if and how users will be informed about changes to the privacy policy.\n",
    "8. *Do Not Track*: if and how Do Not Track signals3for online tracking and advertising are honored.\n",
    "9. *International & Specific Audiences*: practices that pertain only to a specific group of users (e.g., children, Europeans, or California residents).\n",
    "10. *Other*: additional sub-labels for introductory or general text, contact information, and practices not covered by the other categories."
   ]
  },
  {
   "cell_type": "markdown",
   "metadata": {},
   "source": [
    "An individual data practice belongs to one of the ten categories above, and it is articulated by a category-specific set of attributes. For example, a User Choice/Control data practice is associated with four mandatory attributes (Choice Type, Choice Scope, Personal Information Type, Purpose) and one optional attribute (User Type). The annotation scheme defines a set of potential values for each attribute. To ground the data practice in the policy text, each attribute also may be associated with a text span in the privacy policy.\n",
    "\n",
    "The set of mandatory and optional attributes reflects the potential level of specificity with which a data practice of a given category may be described. Optional attributes are less common, while mandatory attributes are necessary to represent a data practice. However, privacy policies are often vague or ambiguous on many of these attributes. Therefore, a valid value for each attribute is Unspecified, allowing annotators to express an absence of information."
   ]
  },
  {
   "cell_type": "markdown",
   "metadata": {},
   "source": [
    "**Related work/data exploration:**"
   ]
  },
  {
   "cell_type": "markdown",
   "metadata": {},
   "source": [
    "* https://github.com/pmayostendorp/beforeiaccept/blob/master/scripts/OPP%20Data%20Exploration.ipynb"
   ]
  },
  {
   "cell_type": "markdown",
   "metadata": {},
   "source": [
    "# Exploring data"
   ]
  },
  {
   "cell_type": "markdown",
   "metadata": {},
   "source": [
    "**Imporing libraries:**"
   ]
  },
  {
   "cell_type": "code",
   "execution_count": 34,
   "metadata": {},
   "outputs": [],
   "source": [
    "import pandas as pd\n",
    "import numpy as np"
   ]
  },
  {
   "cell_type": "code",
   "execution_count": 35,
   "metadata": {},
   "outputs": [
    {
     "data": {
      "text/plain": [
       "'/Users/vildearntze/Desktop/CS299'"
      ]
     },
     "execution_count": 35,
     "metadata": {},
     "output_type": "execute_result"
    }
   ],
   "source": [
    "pwd"
   ]
  },
  {
   "cell_type": "markdown",
   "metadata": {},
   "source": [
    "Change path to the output from the pwd command when OPP_115 folder is saved in the same folder as Data gandling.ipynb"
   ]
  },
  {
   "cell_type": "code",
   "execution_count": 36,
   "metadata": {},
   "outputs": [],
   "source": [
    "path = '/Users/vildearntze/Desktop/CS299'"
   ]
  },
  {
   "cell_type": "code",
   "execution_count": 31,
   "metadata": {},
   "outputs": [],
   "source": [
    "annotations = pd.read_csv(path + '/OPP-115/annotations/20_theatlantic.com.csv', delimiter = ',',header = None)\n",
    "\n",
    "\n",
    "annotations[\"batch_id\"] = annotations[1]\n",
    "del annotations[1]\n",
    "annotations[\"date\"] = annotations[7]\n",
    "del annotations[7]\n",
    "annotations[\"policy_url\"] = annotations[8]\n",
    "del annotations[8]\n",
    "annotations[\"category_name\"] = annotations[5]\n",
    "del annotations[5]\n",
    "annotations[\"attributes_value_pairs\"] = annotations[6]\n",
    "del annotations[6]\n",
    "annotations[\"segment_id\"] = annotations[4]\n",
    "del annotations[4]"
   ]
  },
  {
   "cell_type": "code",
   "execution_count": 32,
   "metadata": {},
   "outputs": [
    {
     "data": {
      "text/html": [
       "<div>\n",
       "<style scoped>\n",
       "    .dataframe tbody tr th:only-of-type {\n",
       "        vertical-align: middle;\n",
       "    }\n",
       "\n",
       "    .dataframe tbody tr th {\n",
       "        vertical-align: top;\n",
       "    }\n",
       "\n",
       "    .dataframe thead th {\n",
       "        text-align: right;\n",
       "    }\n",
       "</style>\n",
       "<table border=\"1\" class=\"dataframe\">\n",
       "  <thead>\n",
       "    <tr style=\"text-align: right;\">\n",
       "      <th></th>\n",
       "      <th>0</th>\n",
       "      <th>2</th>\n",
       "      <th>3</th>\n",
       "      <th>batch_id</th>\n",
       "      <th>date</th>\n",
       "      <th>policy_url</th>\n",
       "      <th>category_name</th>\n",
       "      <th>attributes_value_pairs</th>\n",
       "      <th>segment_id</th>\n",
       "    </tr>\n",
       "  </thead>\n",
       "  <tbody>\n",
       "    <tr>\n",
       "      <th>0</th>\n",
       "      <td>2840</td>\n",
       "      <td>84</td>\n",
       "      <td>3635</td>\n",
       "      <td>test_category_labeling_highlight</td>\n",
       "      <td>1/1/15</td>\n",
       "      <td>http://www.theatlantic.com/privacy-policy/</td>\n",
       "      <td>Other</td>\n",
       "      <td>{\"Other Type\": {\"endIndexInSegment\": 762, \"sta...</td>\n",
       "      <td>0</td>\n",
       "    </tr>\n",
       "    <tr>\n",
       "      <th>1</th>\n",
       "      <td>3616</td>\n",
       "      <td>82</td>\n",
       "      <td>3635</td>\n",
       "      <td>test_category_labeling_highlight</td>\n",
       "      <td>1/1/15</td>\n",
       "      <td>http://www.theatlantic.com/privacy-policy/</td>\n",
       "      <td>Other</td>\n",
       "      <td>{\"Other Type\": {\"endIndexInSegment\": 762, \"sta...</td>\n",
       "      <td>0</td>\n",
       "    </tr>\n",
       "    <tr>\n",
       "      <th>2</th>\n",
       "      <td>4069</td>\n",
       "      <td>88</td>\n",
       "      <td>3635</td>\n",
       "      <td>test_category_labeling_highlight</td>\n",
       "      <td>1/1/15</td>\n",
       "      <td>http://www.theatlantic.com/privacy-policy/</td>\n",
       "      <td>Other</td>\n",
       "      <td>{\"Other Type\": {\"endIndexInSegment\": 762, \"sta...</td>\n",
       "      <td>0</td>\n",
       "    </tr>\n",
       "    <tr>\n",
       "      <th>3</th>\n",
       "      <td>2841</td>\n",
       "      <td>84</td>\n",
       "      <td>3635</td>\n",
       "      <td>test_category_labeling_highlight</td>\n",
       "      <td>1/1/15</td>\n",
       "      <td>http://www.theatlantic.com/privacy-policy/</td>\n",
       "      <td>Other</td>\n",
       "      <td>{\"Other Type\": {\"endIndexInSegment\": 219, \"sta...</td>\n",
       "      <td>1</td>\n",
       "    </tr>\n",
       "    <tr>\n",
       "      <th>4</th>\n",
       "      <td>3617</td>\n",
       "      <td>82</td>\n",
       "      <td>3635</td>\n",
       "      <td>test_category_labeling_highlight</td>\n",
       "      <td>1/1/15</td>\n",
       "      <td>http://www.theatlantic.com/privacy-policy/</td>\n",
       "      <td>Other</td>\n",
       "      <td>{\"Other Type\": {\"endIndexInSegment\": 219, \"sta...</td>\n",
       "      <td>1</td>\n",
       "    </tr>\n",
       "  </tbody>\n",
       "</table>\n",
       "</div>"
      ],
      "text/plain": [
       "      0   2     3                          batch_id    date  \\\n",
       "0  2840  84  3635  test_category_labeling_highlight  1/1/15   \n",
       "1  3616  82  3635  test_category_labeling_highlight  1/1/15   \n",
       "2  4069  88  3635  test_category_labeling_highlight  1/1/15   \n",
       "3  2841  84  3635  test_category_labeling_highlight  1/1/15   \n",
       "4  3617  82  3635  test_category_labeling_highlight  1/1/15   \n",
       "\n",
       "                                   policy_url category_name  \\\n",
       "0  http://www.theatlantic.com/privacy-policy/         Other   \n",
       "1  http://www.theatlantic.com/privacy-policy/         Other   \n",
       "2  http://www.theatlantic.com/privacy-policy/         Other   \n",
       "3  http://www.theatlantic.com/privacy-policy/         Other   \n",
       "4  http://www.theatlantic.com/privacy-policy/         Other   \n",
       "\n",
       "                              attributes_value_pairs  segment_id  \n",
       "0  {\"Other Type\": {\"endIndexInSegment\": 762, \"sta...           0  \n",
       "1  {\"Other Type\": {\"endIndexInSegment\": 762, \"sta...           0  \n",
       "2  {\"Other Type\": {\"endIndexInSegment\": 762, \"sta...           0  \n",
       "3  {\"Other Type\": {\"endIndexInSegment\": 219, \"sta...           1  \n",
       "4  {\"Other Type\": {\"endIndexInSegment\": 219, \"sta...           1  "
      ]
     },
     "execution_count": 32,
     "metadata": {},
     "output_type": "execute_result"
    }
   ],
   "source": [
    "annotations.head()"
   ]
  },
  {
   "cell_type": "markdown",
   "metadata": {},
   "source": [
    "### Description of the fields/columns in annotations"
   ]
  },
  {
   "cell_type": "markdown",
   "metadata": {},
   "source": [
    "**Level of granularity:** Each row represents one annotation that belongs to the segment(by paragraph) with that *segment_id*.\n",
    "* **batch_id:**\n",
    "* **date:**\n",
    "* **policy_url:**\n",
    "* **category_name:** Noted as one of the ten listed categories under \"Annotation Sceme\". Describes what type of annotation is given for that segment.\n",
    "* **attributes_value_pairs:** Describes more in detail why a specific annotation category is listed for that segment. \n",
    " * **Category:**\n",
    "   * **endIndexInSegment:**\n",
    "   * **startIndexInSegment:**\n",
    "   * **selectedText:**\n",
    "   * **value:**\n",
    "  \n",
    "* **segment_id:** Identifies what segment the annotation belongs to."
   ]
  },
  {
   "cell_type": "code",
   "execution_count": 21,
   "metadata": {},
   "outputs": [
    {
     "data": {
      "text/plain": [
       "'{\"Other Type\": {\"endIndexInSegment\": 762, \"startIndexInSegment\": 100, \"selectedText\": \"At the Atlantic Monthly Group, Inc. (\\\\\"The Atlantic\\\\\"), we want you to enjoy and benefit from our websites and online services secure in the knowledge that we have implemented fair information practices designed to protect your privacy. Our privacy policy is applicable to The Atlantic, and The Atlantics affiliates and subsidiaries whose websites, mobile applications and other online services are directly linked (the Sites). The privacy policy describes the kinds of information we may gather during your visit to these Sites, how we use your information, when we might disclose your personally identifiable information, and how you can manage your information.\", \"value\": \"Introductory/Generic\"}}'"
      ]
     },
     "metadata": {},
     "output_type": "display_data"
    },
    {
     "data": {
      "text/plain": [
       "'{\"Other Type\": {\"endIndexInSegment\": 762, \"startIndexInSegment\": 100, \"selectedText\": \"At the Atlantic Monthly Group, Inc. (\\\\\"The Atlantic\\\\\"), we want you to enjoy and benefit from our websites and online services secure in the knowledge that we have implemented fair information practices designed to protect your privacy. Our privacy policy is applicable to The Atlantic, and The Atlantics affiliates and subsidiaries whose websites, mobile applications and other online services are directly linked (the Sites). The privacy policy describes the kinds of information we may gather during your visit to these Sites, how we use your information, when we might disclose your personally identifiable information, and how you can manage your information.\", \"value\": \"Introductory/Generic\"}}'"
      ]
     },
     "metadata": {},
     "output_type": "display_data"
    },
    {
     "data": {
      "text/plain": [
       "'{\"Other Type\": {\"endIndexInSegment\": 762, \"startIndexInSegment\": 100, \"selectedText\": \"At the Atlantic Monthly Group, Inc. (\\\\\"The Atlantic\\\\\"), we want you to enjoy and benefit from our websites and online services secure in the knowledge that we have implemented fair information practices designed to protect your privacy. Our privacy policy is applicable to The Atlantic, and The Atlantics affiliates and subsidiaries whose websites, mobile applications and other online services are directly linked (the Sites). The privacy policy describes the kinds of information we may gather during your visit to these Sites, how we use your information, when we might disclose your personally identifiable information, and how you can manage your information.\", \"value\": \"Introductory/Generic\"}}'"
      ]
     },
     "metadata": {},
     "output_type": "display_data"
    }
   ],
   "source": [
    "display(annotations[6][0])\n",
    "display(annotations[6][1])\n",
    "display(annotations[6][2])"
   ]
  },
  {
   "cell_type": "code",
   "execution_count": null,
   "metadata": {},
   "outputs": [],
   "source": []
  },
  {
   "cell_type": "code",
   "execution_count": null,
   "metadata": {},
   "outputs": [],
   "source": []
  }
 ],
 "metadata": {
  "kernelspec": {
   "display_name": "Python 3",
   "language": "python",
   "name": "python3"
  },
  "language_info": {
   "codemirror_mode": {
    "name": "ipython",
    "version": 3
   },
   "file_extension": ".py",
   "mimetype": "text/x-python",
   "name": "python",
   "nbconvert_exporter": "python",
   "pygments_lexer": "ipython3",
   "version": "3.6.8"
  }
 },
 "nbformat": 4,
 "nbformat_minor": 2
}
